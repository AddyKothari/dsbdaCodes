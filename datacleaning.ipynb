import pandas as pd

# Load the Heart Diseases dataset
heart_diseases_df = pd.read_csv('heart_diseases_dataset.csv')

# Check for missing values
print(heart_diseases_df.isnull().sum())

# Handle missing values
# Option 1: Delete rows with missing values
heart_diseases_df = heart_diseases_df.dropna()

# Option 2: Impute missing values
# Example: Fill missing values with the mean of the column
heart_diseases_df['chol'].fillna(heart_diseases_df['chol'].mean(), inplace=True)

# Remove duplicates
heart_diseases_df = heart_diseases_df.drop_duplicates()

# Perform other data cleaning operations as required
import pandas as pd

# Load and merge multiple datasets
dataset1 = pd.read_csv('dataset1.csv')
dataset2 = pd.read_csv('dataset2.csv')

merged_dataset = pd.merge(dataset1, dataset2, on='common_column')
# Or concatenate datasets vertically
concatenated_dataset = pd.concat([dataset1, dataset2])
import numpy as np

# Apply logarithmic transformation to a numerical column
heart_diseases_df['age_log'] = np.log(heart_diseases_df['age'])
# Identify and correct errors in a categorical column
heart_diseases_df.loc[heart_diseases_df['category'] == 'wrong_value', 'category'] = 'correct_value'
from sklearn.linear_model import LogisticRegression
from sklearn.model_selection import train_test_split

# Split the dataset into features (X) and target variable (y)
X = heart_diseases_df.drop('target', axis=1)
y = heart_diseases_df['target']

# Split the data into training and testing sets
X_train, X_test, y_train, y_test = train_test_split(X, y, test_size=0.2, random_state=42)

# Initialize and train the logistic regression model
model = LogisticRegression()
model.fit(X_train, y_train)

# Evaluate the model
accuracy = model.score(X_test, y_test)
